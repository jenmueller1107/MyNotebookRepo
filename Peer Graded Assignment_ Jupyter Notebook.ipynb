{
 "cells": [
  {
   "cell_type": "markdown",
   "metadata": {
    "collapsed": true
   },
   "source": [
    "# My Jupyter Notebook on IBM Watson Studio"
   ]
  },
  {
   "cell_type": "code",
   "execution_count": null,
   "metadata": {},
   "outputs": [],
   "source": [
    "**Jennifer Mueller**  \n",
    "Principal Consultant"
   ]
  },
  {
   "cell_type": "code",
   "execution_count": null,
   "metadata": {},
   "outputs": [],
   "source": [
    "*Data science is important to my job as a consultant. Improving my knowledge and skill in data science will help me perform better for my clients.*"
   ]
  },
  {
   "cell_type": "code",
   "execution_count": null,
   "metadata": {},
   "outputs": [],
   "source": [
    "### My code in the next cell will multiply 10 times 3"
   ]
  },
  {
   "cell_type": "code",
   "execution_count": 1,
   "metadata": {},
   "outputs": [
    {
     "data": {
      "text/plain": [
       "30"
      ]
     },
     "execution_count": 1,
     "metadata": {},
     "output_type": "execute_result"
    }
   ],
   "source": [
    "10*3"
   ]
  },
  {
   "cell_type": "markdown",
   "metadata": {},
   "source": [
    "1. Demonstration of a hyperlink format:\n",
    "Here is a [link][1] to a markdown quick reference guide.\n",
    "\n",
    "[1]:https://wordpress.com/support/markdown-quick-reference/\n",
    "\n",
    "2. Demonstration of a numbered list format:  \n",
    "This page references multiple formats such as:\n",
    "- bulleted lists\n",
    "- numbered lists\n",
    "- hyperlinks\n",
    "- and more\n",
    "\n",
    "3. Demonstration of a table format:  \n",
    "The following displays a table of some formats:\n",
    "| Format | Output |\n",
    "| ------ | ----- |\n",
    "| **Bold**| Bold Text |\n",
    "| *Italics* | Italicized Text |\n",
    "| ***Bold and Italicized*** | Bold and Italicized Text |"
   ]
  },
  {
   "cell_type": "code",
   "execution_count": null,
   "metadata": {},
   "outputs": [],
   "source": []
  }
 ],
 "metadata": {
  "kernelspec": {
   "display_name": "Python 3.9",
   "language": "python",
   "name": "python3"
  },
  "language_info": {
   "codemirror_mode": {
    "name": "ipython",
    "version": 3
   },
   "file_extension": ".py",
   "mimetype": "text/x-python",
   "name": "python",
   "nbconvert_exporter": "python",
   "pygments_lexer": "ipython3",
   "version": "3.9.12"
  }
 },
 "nbformat": 4,
 "nbformat_minor": 1
}
